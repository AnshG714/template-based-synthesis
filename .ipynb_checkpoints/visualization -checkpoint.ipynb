{
 "cells": [
  {
   "cell_type": "code",
   "execution_count": 4,
   "id": "82da0d59",
   "metadata": {},
   "outputs": [],
   "source": [
    "import matplotlib.pyplot as plt"
   ]
  },
  {
   "cell_type": "code",
   "execution_count": 12,
   "id": "f5af862b",
   "metadata": {},
   "outputs": [
    {
     "name": "stdout",
     "output_type": "stream",
     "text": [
      "{'rev_list_performance.txt': {'minimal': [3420, 7422, 6458, 3739, 3571, 3844, 4408, 5127, 4926, 3203], 'less_minimal': [5211, 3640, 4971, 5269, 8376, 5495, 7399, 3631, 5223, 3345], 'less_less_minimal': [13703, 68562, 14671, 18697, 19675, 10341, 50035, 9747, 8687, 3965], 'less_less_less_minimal': [65137, 21245, 6858, 61340, 23428, 61837, 7868, 14466, 59332, 4089], 'less_less_less_less_minimal': [9234, 7205, 73148, 6772, 34483, 11675, 168518, 39455, 87666, 8082]}, 'double_performance_measurement.txt': {'minimal': [4021, 3161, 2969, 3147, 3174, 3405, 3133, 2950, 3150, 2918], 'less_minimal': [3049, 3112, 2953, 3012, 3100, 3212, 3139, 2967, 3117, 3132], 'less_less_minimal': [3143, 3167, 3038, 3205, 3311, 3141, 3115, 2914, 2886, 3002], 'less_less_less_minimal': [3098, 3050, 3565, 3415, 3196, 3101, 3092, 3325, 3249, 3621], 'less_less_less_less_minimal': [3211, 3098, 3056, 3268, 3391, 3248, 3005, 4132, 2859, 2896]}, 'add1_performance_measurement.txt': {'minimal': [2864, 2813, 2927, 2864, 2928, 2836, 2837, 2787, 2845, 2781], 'less_minimal': [2823, 2782, 2863, 2867, 2773, 2801, 2823, 2796, 2894, 2833], 'less_less_minimal': [2895, 2786, 2865, 2902, 2827, 2875, 2908, 2820, 2805, 2968], 'less_less_less_minimal': [3112, 2840, 3064, 2987, 3470, 2934, 3110, 3170, 2878, 2921], 'less_less_less_less_minimal': [2811, 85144, 4030, 3122, 3192, 3279, 3125, 3379, 3010, 3023]}}\n"
     ]
    }
   ],
   "source": [
    "FILES = [\n",
    "    \"rev_list_performance.txt\",\n",
    "    \"double_performance_measurement.txt\",\n",
    "    \"add1_performance_measurement.txt\"\n",
    "]\n",
    "\n",
    "performance_map = {}\n",
    "\n",
    "for file in FILES:\n",
    "    with open(file, 'r') as f:\n",
    "        data = f.read()\n",
    "        performances = data.split(\"\\n\")\n",
    "        l = []\n",
    "        for performance in performances:\n",
    "            file_space = performance.find(\" \")\n",
    "            data = [int(el) for el in eval(performance[file_space + 1:])]\n",
    "            l.append(data)\n",
    "        performance_map[file] = l            \n",
    "        "
   ]
  },
  {
   "cell_type": "code",
   "execution_count": null,
   "id": "efdf28cc",
   "metadata": {},
   "outputs": [],
   "source": []
  }
 ],
 "metadata": {
  "kernelspec": {
   "display_name": "Python 3 (ipykernel)",
   "language": "python",
   "name": "python3"
  },
  "language_info": {
   "codemirror_mode": {
    "name": "ipython",
    "version": 3
   },
   "file_extension": ".py",
   "mimetype": "text/x-python",
   "name": "python",
   "nbconvert_exporter": "python",
   "pygments_lexer": "ipython3",
   "version": "3.9.7"
  }
 },
 "nbformat": 4,
 "nbformat_minor": 5
}
